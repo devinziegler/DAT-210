{
 "cells": [
  {
   "cell_type": "markdown",
   "id": "97cd2226-6129-41a5-8222-49361799d03f",
   "metadata": {},
   "source": [
    "# NumPy documentation\n",
    "\n",
    "Please refer: https://numpy.org/devdocs/user/\n"
   ]
  },
  {
   "cell_type": "code",
   "execution_count": null,
   "id": "91982c61-4a69-468a-9372-bdda3e75088b",
   "metadata": {},
   "outputs": [],
   "source": []
  },
  {
   "cell_type": "markdown",
   "id": "c4856cbe-950e-4f4c-8c26-d9ec09e5fcc7",
   "metadata": {},
   "source": [
    "**Q1: Basic Array Operations:**\n",
    "\n",
    "1. Create a 1D NumPy array with numbers from 10 to 100 and calculate the product of all elements, the variance, and the median.\n",
    "2. Extract all multiples of 5 from the array.\n"
   ]
  },
  {
   "cell_type": "code",
   "execution_count": 1,
   "id": "a3abec81-4b66-42c9-aa2f-fc6cfadea55d",
   "metadata": {},
   "outputs": [],
   "source": [
    "import numpy as np"
   ]
  },
  {
   "cell_type": "code",
   "execution_count": null,
   "id": "c946e360-20fe-4555-9e45-db9c996d2aa7",
   "metadata": {},
   "outputs": [],
   "source": []
  },
  {
   "cell_type": "markdown",
   "id": "7a0ae6dc-e799-4160-9555-1cd345a83976",
   "metadata": {},
   "source": [
    "**Q2: Reshaping and Indexing:**\n",
    "1. Create a 4x4 matrix of integers ranging from 1 to 16. Replace all the elements in the last row with -1.\n",
    "2. Create a 3x3 matrix of random integers between 10 and 50. Extract all the elements from the second column.\n"
   ]
  },
  {
   "cell_type": "code",
   "execution_count": null,
   "id": "4d97eb25-cc37-4a1d-a8ce-92790fae1c4d",
   "metadata": {},
   "outputs": [],
   "source": []
  },
  {
   "cell_type": "code",
   "execution_count": null,
   "id": "20847557-320f-4f06-888a-deb1ca2bb871",
   "metadata": {},
   "outputs": [],
   "source": []
  },
  {
   "cell_type": "markdown",
   "id": "f53b10c7-76f1-4603-a700-a3160607dd8a",
   "metadata": {},
   "source": [
    "**Q3: Statistical Operations:**\n",
    "1. Generate a random 50-element array with values between 10 and 20. Calculate the range (max - min), mean, and standard deviation.\n",
    "2. Create an array of 10 integers and identify the number closest to the array's mean.\n"
   ]
  },
  {
   "cell_type": "code",
   "execution_count": null,
   "id": "0e80619b-5558-4e32-acc2-87b02fc54d0d",
   "metadata": {},
   "outputs": [],
   "source": []
  },
  {
   "cell_type": "code",
   "execution_count": null,
   "id": "b217eb1d-add9-476f-96d9-4aa6b3a68cd2",
   "metadata": {},
   "outputs": [],
   "source": []
  },
  {
   "cell_type": "markdown",
   "id": "86a3b3d1-5b76-4c29-a822-1d9e640be306",
   "metadata": {},
   "source": [
    "**Q4: Filtering:**\n",
    "1. Create a random array of 30 integers between 50 and 200. Find all elements less than 100.\n",
    "2. Generate an array of 25 random floats between 0 and 1. Extract all values greater than 0.6."
   ]
  },
  {
   "cell_type": "code",
   "execution_count": null,
   "id": "5072ad45-e0e0-4f8d-a54d-7112ca8d0f33",
   "metadata": {},
   "outputs": [],
   "source": []
  },
  {
   "cell_type": "code",
   "execution_count": null,
   "id": "64546460-9237-4b3f-8292-95713e3a8204",
   "metadata": {},
   "outputs": [],
   "source": []
  },
  {
   "cell_type": "code",
   "execution_count": null,
   "id": "fda7bc82-59e5-4345-93b6-07631c85acc7",
   "metadata": {},
   "outputs": [],
   "source": []
  },
  {
   "cell_type": "code",
   "execution_count": null,
   "id": "c518ab50-5797-4fd5-8183-7d09ffc91763",
   "metadata": {},
   "outputs": [],
   "source": []
  },
  {
   "cell_type": "code",
   "execution_count": null,
   "id": "98c6509a-cd7d-46ed-8420-c804529e1460",
   "metadata": {},
   "outputs": [],
   "source": []
  },
  {
   "cell_type": "code",
   "execution_count": null,
   "id": "91d72a5e-f78c-4127-adf1-3acfa6df376a",
   "metadata": {},
   "outputs": [],
   "source": []
  }
 ],
 "metadata": {
  "kernelspec": {
   "display_name": "Python [conda env:base] *",
   "language": "python",
   "name": "conda-base-py"
  },
  "language_info": {
   "codemirror_mode": {
    "name": "ipython",
    "version": 3
   },
   "file_extension": ".py",
   "mimetype": "text/x-python",
   "name": "python",
   "nbconvert_exporter": "python",
   "pygments_lexer": "ipython3",
   "version": "3.12.7"
  }
 },
 "nbformat": 4,
 "nbformat_minor": 5
}
