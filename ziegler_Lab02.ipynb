{
 "cells": [
  {
   "cell_type": "markdown",
   "id": "97cd2226-6129-41a5-8222-49361799d03f",
   "metadata": {},
   "source": [
    "# NumPy documentation\n",
    "\n",
    "Please refer: https://numpy.org/devdocs/user/\n"
   ]
  },
  {
   "cell_type": "markdown",
   "id": "d9fa18fa-9701-406a-a0c9-fa45dc62fbd9",
   "metadata": {},
   "source": [
    "# Note:\n",
    "\n",
    "1. *If there are any errors in your code you will not receive more than 50% of the points for that question. Please test your code thoroughly before submission.*\n",
    "\n",
    "2. *The submitted file must be a Jupyter Notebook with the correct* **.ipynb** *extension. Ensure that the notebook is properly named and includes all necessary code and outputs.* **Submissions in any other format will receive a score of 0.**\n",
    " \n",
    " \n",
    " # Submission:\n",
    "    Please rename your notebook as <your_name>_Lab02.ipynb and submit on Canvas\n",
    "\n",
    "# Grading Summary (Total: 25 Points):\n",
    "\n",
    "**The submitted file name is as mentioned above: 1 Point**\n",
    "\n",
    "**Descriptive identifiers are used: 3 Points**\n",
    "\n",
    "**Outputs are displayed with appropriate messages: 3 Points**\n",
    "\n",
    "**Q1: 4 Points**\n",
    "\n",
    "**Q2: 4 Points**\n",
    "\n",
    "**Q3: 10 Points**"
   ]
  },
  {
   "cell_type": "markdown",
   "id": "c4856cbe-950e-4f4c-8c26-d9ec09e5fcc7",
   "metadata": {},
   "source": [
    "**Q1:**\n",
    "\n",
    "1. Create a 1D NumPy array with numbers from 5 to 100 in steps of 5. Calculate the sum, mean, and the standard deviation of the array.\n",
    "2. Extract all elements in the array that are divisible by both 3 and 5."
   ]
  },
  {
   "cell_type": "code",
   "execution_count": 34,
   "id": "c946e360-20fe-4555-9e45-db9c996d2aa7",
   "metadata": {},
   "outputs": [
    {
     "name": "stdout",
     "output_type": "stream",
     "text": [
      "These numbers are divisible by both 3 and 5 [15 30 45 60 75 90]\n"
     ]
    }
   ],
   "source": [
    "import numpy as np\n",
    "\n",
    "five_array = np.arange(5, 101, 5)\n",
    "five_array\n",
    "\n",
    "divisibly_by_5 = five_array % 5 == 0\n",
    "divisible_by_3 = five_array % 3 == 0\n",
    "\n",
    "d5_array = five_array[divisibly_by_5]\n",
    "d5_d3_array = d5_array[divisible_by_3]\n",
    "\n",
    "print(\"These numbers are divisible by both 3 and 5\", d5_d3_array)\n"
   ]
  },
  {
   "cell_type": "markdown",
   "id": "7a0ae6dc-e799-4160-9555-1cd345a83976",
   "metadata": {},
   "source": [
    "**Q2:**\n",
    "\n",
    "1. Create a 5x5 matrix of integers ranging from 1 to 25. Replace the diagonal elements with -1.\n",
    "2. Create a 4x3 matrix of random integers between 20 and 60. Extract all elements from the first and last rows.\n"
   ]
  },
  {
   "cell_type": "code",
   "execution_count": 53,
   "id": "4d97eb25-cc37-4a1d-a8ce-92790fae1c4d",
   "metadata": {},
   "outputs": [
    {
     "data": {
      "text/plain": [
       "array([[-1,  2,  3,  4,  5],\n",
       "       [ 6, -1,  8,  9, 10],\n",
       "       [11, 12, -1, 14, 15],\n",
       "       [16, 17, 18, -1, 20],\n",
       "       [21, 22, 23, 24, -1]])"
      ]
     },
     "execution_count": 53,
     "metadata": {},
     "output_type": "execute_result"
    }
   ],
   "source": [
    "matrix = np.arange(1, 26).reshape(5, 5)\n",
    "np.fill_diagonal(matrix, -1)\n",
    "matrix"
   ]
  },
  {
   "cell_type": "code",
   "execution_count": 93,
   "id": "20847557-320f-4f06-888a-deb1ca2bb871",
   "metadata": {},
   "outputs": [
    {
     "name": "stdout",
     "output_type": "stream",
     "text": [
      "the matrix :\n",
      "[[43 43 47]\n",
      " [59 26 39]\n",
      " [51 52 44]\n",
      " [38 55 56]]\n",
      "elements from the first row [43 43 47]\n",
      "elements from the last row [38 55 56]\n"
     ]
    }
   ],
   "source": [
    "matrix_4 = np.random.randint(20, 60, size=(4, 3))\n",
    "first_row = matrix_4[0]\n",
    "last_row = matrix_4[-1]\n",
    "print(\"the matrix :\")\n",
    "print(matrix_4)\n",
    "print(\"elements from the first row\", first_row)\n",
    "print(\"elements from the last row\", last_row)\n",
    "\n"
   ]
  },
  {
   "cell_type": "markdown",
   "id": "921aef21-71a5-4973-b3f7-7d5b1668958e",
   "metadata": {},
   "source": [
    "# Q3:\n",
    "\n",
    "You are given a 2D NumPy array representing the monthly sales (in dollars) of different products in a store over 6 months. \n",
    "Each row corresponds to a product, and each column corresponds to a month.\n",
    "\n",
    "1. Find the product with the highest total sales.\n",
    "2. Find months where Product 3 had sales greater than 2100 dollars."
   ]
  },
  {
   "cell_type": "code",
   "execution_count": 95,
   "id": "b217eb1d-add9-476f-96d9-4aa6b3a68cd2",
   "metadata": {},
   "outputs": [],
   "source": [
    "import numpy as np\n",
    "\n",
    "data = np.array([[\"Jan\", \"Feb\", \"Mar\", \"Apr\", \"May\", \"Jun\"],\n",
    "    [1200, 1500, 1700, 1600, 1800, 1900],  # Product 1\n",
    "    [1000, 1100, 1050, 1300, 1250, 1400],  # Product 2\n",
    "    [2000, 1950, 2100, 2200, 2300, 2250],  # Product 3\n",
    "    [900, 950, 980, 1000, 1100, 1200],     # Product 4\n",
    "    [1700, 1800, 1850, 1900, 1950, 2000]   # Product 5\n",
    "])\n",
    "\n",
    "\n",
    "months = data[0,:]\n",
    "sales_data = data[1:,].astype(int)"
   ]
  },
  {
   "cell_type": "code",
   "execution_count": 129,
   "id": "fda7bc82-59e5-4345-93b6-07631c85acc7",
   "metadata": {},
   "outputs": [
    {
     "name": "stdout",
     "output_type": "stream",
     "text": [
      "product 3 has the highest sale of 2300\n"
     ]
    }
   ],
   "source": [
    "highest_sale = np.max(sales_data)\n",
    "print(\"product 3 has the highest sale of\", highest_sale)\n"
   ]
  },
  {
   "cell_type": "code",
   "execution_count": 140,
   "id": "c518ab50-5797-4fd5-8183-7d09ffc91763",
   "metadata": {},
   "outputs": [
    {
     "name": "stdout",
     "output_type": "stream",
     "text": [
      "Product 3 had sales greater than 2100 in the following months:  ['Apr' 'May' 'Jun']\n"
     ]
    }
   ],
   "source": [
    "product3_row = sales_data[2, :]\n",
    "highest_months = months[product3_row > 2100]\n",
    "print(\"Product 3 had sales greater than 2100 in the following months: \", highest_months)\n"
   ]
  },
  {
   "cell_type": "code",
   "execution_count": null,
   "id": "98c6509a-cd7d-46ed-8420-c804529e1460",
   "metadata": {},
   "outputs": [],
   "source": []
  },
  {
   "cell_type": "code",
   "execution_count": null,
   "id": "91d72a5e-f78c-4127-adf1-3acfa6df376a",
   "metadata": {},
   "outputs": [],
   "source": []
  }
 ],
 "metadata": {
  "kernelspec": {
   "display_name": "Python [conda env:base] *",
   "language": "python",
   "name": "conda-base-py"
  },
  "language_info": {
   "codemirror_mode": {
    "name": "ipython",
    "version": 3
   },
   "file_extension": ".py",
   "mimetype": "text/x-python",
   "name": "python",
   "nbconvert_exporter": "python",
   "pygments_lexer": "ipython3",
   "version": "3.12.7"
  }
 },
 "nbformat": 4,
 "nbformat_minor": 5
}
