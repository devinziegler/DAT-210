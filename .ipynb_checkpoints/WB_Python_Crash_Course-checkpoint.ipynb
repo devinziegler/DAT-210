{
 "cells": [
  {
   "cell_type": "markdown",
   "id": "0070ec13",
   "metadata": {},
   "source": [
    "# Variables and Data types\n",
    "\n",
    "Data storage containers with a **Label** called an identifier\n"
   ]
  },
  {
   "cell_type": "code",
   "execution_count": 19,
   "id": "af9c5955",
   "metadata": {},
   "outputs": [],
   "source": [
    "#type integer\n",
    "my_var_1 = 10\n",
    "#display the type of variable\n",
    "type(my_var_1)\n",
    "\n",
    "#type float\n",
    "my_var_2 = 1.2\n",
    "#display the type of variable\n",
    "\n",
    "\n",
    "#type string\n",
    "my_var_3 = \"hello world\"\n",
    "\n",
    "#type boolean\n",
    "my_var_4 = True"
   ]
  },
  {
   "cell_type": "code",
   "execution_count": 17,
   "id": "92856961",
   "metadata": {},
   "outputs": [
    {
     "data": {
      "text/plain": [
       "bool"
      ]
     },
     "execution_count": 17,
     "metadata": {},
     "output_type": "execute_result"
    }
   ],
   "source": [
    "type(my_var_4)"
   ]
  },
  {
   "cell_type": "markdown",
   "id": "4e94af08-75f9-4e8f-a5db-83f990d931ca",
   "metadata": {},
   "source": [
    "# User inputs"
   ]
  },
  {
   "cell_type": "code",
   "execution_count": 21,
   "id": "6a242509-6828-4e4a-aac7-ae7142c652d3",
   "metadata": {},
   "outputs": [
    {
     "name": "stdin",
     "output_type": "stream",
     "text": [
      "Please Enter A Number hello world\n"
     ]
    },
    {
     "data": {
      "text/plain": [
       "str"
      ]
     },
     "execution_count": 21,
     "metadata": {},
     "output_type": "execute_result"
    }
   ],
   "source": [
    "input_num = input(\"Please Enter A Number\")\n",
    "type(input_num)"
   ]
  },
  {
   "cell_type": "code",
   "execution_count": 47,
   "id": "27f95a47-95f4-475a-af7a-4b3a26c6eab0",
   "metadata": {},
   "outputs": [
    {
     "name": "stdin",
     "output_type": "stream",
     "text": [
      "Please Enter A Number 10\n"
     ]
    },
    {
     "data": {
      "text/plain": [
       "int"
      ]
     },
     "execution_count": 47,
     "metadata": {},
     "output_type": "execute_result"
    }
   ],
   "source": [
    "input_num = int(input(\"Please Enter A Number\"))\n",
    "type(input_num)"
   ]
  },
  {
   "cell_type": "markdown",
   "id": "a2ecbd4b",
   "metadata": {},
   "source": [
    "# Math operators"
   ]
  },
  {
   "cell_type": "code",
   "execution_count": 49,
   "id": "cab53c42",
   "metadata": {},
   "outputs": [],
   "source": [
    "#addition\n",
    "add_two = 2+3\n",
    "\n",
    "#subratction\n",
    "sub_two = 3-2\n",
    "\n",
    "#multiplication\n",
    "mul_two = 3*2\n",
    "\n",
    "#integer division\n",
    "int_div = 5//2\n",
    "\n",
    "#float division\n",
    "float_div = 5/2\n",
    "\n",
    "#power\n",
    "pow_num = 3**2\n",
    "\n",
    "#modulo operator (reminder)\n",
    "rem_num = 5%2"
   ]
  },
  {
   "cell_type": "markdown",
   "id": "f8dc5b89",
   "metadata": {},
   "source": [
    "# Priority: power > division > multiplication > addition > subtraction"
   ]
  },
  {
   "cell_type": "code",
   "execution_count": 35,
   "id": "3c44c7fa",
   "metadata": {},
   "outputs": [
    {
     "data": {
      "text/plain": [
       "-5.0"
      ]
     },
     "execution_count": 35,
     "metadata": {},
     "output_type": "execute_result"
    }
   ],
   "source": [
    "100-5**2/5*21+21%1"
   ]
  },
  {
   "cell_type": "markdown",
   "id": "5f52a493",
   "metadata": {},
   "source": [
    "# Conversion between numeric types"
   ]
  },
  {
   "cell_type": "code",
   "execution_count": 27,
   "id": "e5dd158f",
   "metadata": {},
   "outputs": [
    {
     "data": {
      "text/plain": [
       "5.0"
      ]
     },
     "execution_count": 27,
     "metadata": {},
     "output_type": "execute_result"
    }
   ],
   "source": [
    "#integer to float\n",
    "float(5)\n"
   ]
  },
  {
   "cell_type": "code",
   "execution_count": 29,
   "id": "88196ed5-a085-4e51-bfed-7f99d7c55b66",
   "metadata": {},
   "outputs": [
    {
     "data": {
      "text/plain": [
       "3"
      ]
     },
     "execution_count": 29,
     "metadata": {},
     "output_type": "execute_result"
    }
   ],
   "source": [
    "#float to integer\n",
    "int(3.27)\n"
   ]
  },
  {
   "cell_type": "code",
   "execution_count": 31,
   "id": "859d0343-4fd4-41b3-9594-1b46c0700349",
   "metadata": {},
   "outputs": [
    {
     "data": {
      "text/plain": [
       "'12'"
      ]
     },
     "execution_count": 31,
     "metadata": {},
     "output_type": "execute_result"
    }
   ],
   "source": [
    "#int to string\n",
    "str(12)"
   ]
  },
  {
   "cell_type": "code",
   "execution_count": 33,
   "id": "e5a507f7-c57e-4ded-a4d4-e4dda51e93d9",
   "metadata": {},
   "outputs": [
    {
     "name": "stdout",
     "output_type": "stream",
     "text": [
      "DAT 310\n"
     ]
    }
   ],
   "source": [
    "#string concatenation\n",
    "my_num = 310\n",
    "my_string_1 = \"DAT \"\n",
    "my_string = my_string_1 + str(my_num) \n",
    "print(my_string)"
   ]
  },
  {
   "cell_type": "markdown",
   "id": "ebea9c72",
   "metadata": {},
   "source": [
    "# Numbers: inbuilt functions"
   ]
  },
  {
   "cell_type": "code",
   "execution_count": 7,
   "id": "101629f6",
   "metadata": {},
   "outputs": [
    {
     "data": {
      "text/plain": [
       "9"
      ]
     },
     "execution_count": 7,
     "metadata": {},
     "output_type": "execute_result"
    }
   ],
   "source": [
    "#returns the absolute value \n",
    "abs(-5)\n",
    "\n",
    "#returns largest number\n",
    "max(3,7)\n",
    "\n",
    "#returns smallest number\n",
    "min(3,7)\n",
    "\n",
    "#returns power\n",
    "pow(3,2)"
   ]
  },
  {
   "cell_type": "markdown",
   "id": "8bdea7ed",
   "metadata": {},
   "source": [
    "# Comparision operators (always returns a boolean)"
   ]
  },
  {
   "cell_type": "code",
   "execution_count": 39,
   "id": "28a79bbf",
   "metadata": {},
   "outputs": [
    {
     "data": {
      "text/plain": [
       "False"
      ]
     },
     "execution_count": 39,
     "metadata": {},
     "output_type": "execute_result"
    }
   ],
   "source": [
    "var_1 = 2\n",
    "var_2 = 3\n",
    "\n",
    "#greater than/ greater than or equal to\n",
    "var_1 > var_2\n"
   ]
  },
  {
   "cell_type": "code",
   "execution_count": null,
   "id": "44c38f16-819a-4497-b529-756cb7b17c64",
   "metadata": {},
   "outputs": [],
   "source": [
    "print(var_1 >= var_2)\n"
   ]
  },
  {
   "cell_type": "code",
   "execution_count": 41,
   "id": "b3edb7e6-4a8e-403a-846b-267fcd6fa11d",
   "metadata": {},
   "outputs": [
    {
     "name": "stdout",
     "output_type": "stream",
     "text": [
      "False\n"
     ]
    }
   ],
   "source": [
    "my_bool = var_1 > var_2\n",
    "print(my_bool)\n",
    "\n"
   ]
  },
  {
   "cell_type": "code",
   "execution_count": null,
   "id": "0aceca89-9cb5-4d9c-95f8-b60c40247a5b",
   "metadata": {},
   "outputs": [],
   "source": [
    "#less than/ less than or equal to\n",
    "\n"
   ]
  },
  {
   "cell_type": "code",
   "execution_count": null,
   "id": "56afa6df-0dac-4863-bdba-d608e05ebcd0",
   "metadata": {},
   "outputs": [],
   "source": [
    "print(var_1 <= var_2)\n"
   ]
  },
  {
   "cell_type": "code",
   "execution_count": null,
   "id": "4c978b98-a08a-4ed1-8577-f67309d1e267",
   "metadata": {},
   "outputs": [],
   "source": [
    "my_bool = var_1 <= var_2\n",
    "print(my_bool)\n",
    "\n"
   ]
  },
  {
   "cell_type": "code",
   "execution_count": null,
   "id": "bacef0f7-8206-4620-8a7b-d561d1b1954b",
   "metadata": {},
   "outputs": [],
   "source": [
    "#equal to (note: = is an assignment operator and == is comparision operator)\n",
    "print(var_1 == var_2)\n",
    "my_bool = var_1 == var_2\n",
    "\n"
   ]
  },
  {
   "cell_type": "code",
   "execution_count": null,
   "id": "24420018-619b-4213-9843-e9f2630e0d4c",
   "metadata": {},
   "outputs": [],
   "source": [
    "#not equal to\n",
    "print(var_1 != var_2)\n",
    "my_bool = var_1 != var_2\n",
    "print(my_bool)"
   ]
  },
  {
   "cell_type": "code",
   "execution_count": null,
   "id": "6bcf0b3d-da50-43d4-a223-e8dd9eb36a5a",
   "metadata": {},
   "outputs": [],
   "source": []
  },
  {
   "cell_type": "markdown",
   "id": "3e13a477",
   "metadata": {},
   "source": [
    "# Logical operators "
   ]
  },
  {
   "cell_type": "code",
   "execution_count": 10,
   "id": "27058bd7",
   "metadata": {},
   "outputs": [
    {
     "name": "stdout",
     "output_type": "stream",
     "text": [
      "False\n"
     ]
    }
   ],
   "source": [
    "var_1 = True\n",
    "var_2 = False\n",
    "\n",
    "#logical and\n",
    "print(var_1 and var_2)\n",
    "\n"
   ]
  },
  {
   "cell_type": "code",
   "execution_count": null,
   "id": "dc9886c8-caa2-4fe2-8f4a-13b898717c23",
   "metadata": {},
   "outputs": [],
   "source": [
    "my_bool = var_1 and var_2\n",
    "print(my_bool)\n",
    "\n"
   ]
  },
  {
   "cell_type": "code",
   "execution_count": null,
   "id": "96794698-52bd-4d01-aa9b-8c0fef324977",
   "metadata": {},
   "outputs": [],
   "source": [
    "#logical or\n",
    "print(var_1 or var_2)\n"
   ]
  },
  {
   "cell_type": "code",
   "execution_count": null,
   "id": "37a1e36a-11c1-4c08-bf4f-a005b192bd51",
   "metadata": {},
   "outputs": [],
   "source": [
    "my_bool = var_1 or var_2\n",
    "print(my_bool)\n",
    "\n"
   ]
  },
  {
   "cell_type": "code",
   "execution_count": null,
   "id": "5e9909ae-c8a6-4779-b491-c70bb5a101b7",
   "metadata": {},
   "outputs": [],
   "source": [
    "#logical not\n",
    "print(not var_1)\n"
   ]
  },
  {
   "cell_type": "code",
   "execution_count": null,
   "id": "3eeba10e-f3ad-4c7e-b976-f2d70b03e69c",
   "metadata": {},
   "outputs": [],
   "source": [
    "my_bool = not(var_1 and var_2)\n",
    "print(my_bool)"
   ]
  },
  {
   "cell_type": "markdown",
   "id": "48c78d81",
   "metadata": {},
   "source": [
    "# Lists (note: index -> 0 to len-1)"
   ]
  },
  {
   "cell_type": "code",
   "execution_count": 45,
   "id": "7ead4548",
   "metadata": {},
   "outputs": [
    {
     "data": {
      "text/plain": [
       "4"
      ]
     },
     "execution_count": 45,
     "metadata": {},
     "output_type": "execute_result"
    }
   ],
   "source": [
    "my_list = [4, 6, 1, 3]\n",
    "\n",
    "#returns th number of elements in a list\n",
    "len(my_list)\n"
   ]
  },
  {
   "cell_type": "code",
   "execution_count": 51,
   "id": "9400dbb7-9adc-4ce8-a42e-c5fc69c121c3",
   "metadata": {},
   "outputs": [
    {
     "name": "stdout",
     "output_type": "stream",
     "text": [
      "4\n"
     ]
    }
   ],
   "source": [
    "#returns the first element\n",
    "my_list = [4, 6, 1, 3]\n",
    "\n",
    "print(my_list[0])\n"
   ]
  },
  {
   "cell_type": "code",
   "execution_count": 63,
   "id": "7fb03c3e-951c-428a-b0de-e7a1e1a29c02",
   "metadata": {},
   "outputs": [
    {
     "name": "stdout",
     "output_type": "stream",
     "text": [
      "1\n"
     ]
    }
   ],
   "source": [
    "#returns the smallest value in the list\n",
    "my_list = [4, 6, 1, 3]\n",
    "\n",
    "print(min(my_list))\n",
    "\n"
   ]
  },
  {
   "cell_type": "code",
   "execution_count": 65,
   "id": "49baf8d1-6670-46d5-b734-73c285e498c6",
   "metadata": {},
   "outputs": [
    {
     "name": "stdout",
     "output_type": "stream",
     "text": [
      "6\n"
     ]
    }
   ],
   "source": [
    "#returns the largest value in the list\n",
    "\n",
    "print(max(my_list))\n",
    "\n"
   ]
  },
  {
   "cell_type": "code",
   "execution_count": 73,
   "id": "86bc207e-8dc4-4da1-b17c-352fcec2ade4",
   "metadata": {},
   "outputs": [
    {
     "name": "stdout",
     "output_type": "stream",
     "text": [
      "[4, 6, 1, 3, 32]\n"
     ]
    }
   ],
   "source": [
    "#add a new element to the end of list\n",
    "\n",
    "my_list.append(32)\n",
    "print(my_list)\n",
    "\n"
   ]
  },
  {
   "cell_type": "code",
   "execution_count": 77,
   "id": "1e5374a9",
   "metadata": {},
   "outputs": [
    {
     "name": "stdout",
     "output_type": "stream",
     "text": [
      "[43, 4, 6, 1, 3, 32]\n"
     ]
    }
   ],
   "source": [
    "#add a new element at a specified index\n",
    "#(index_loc , element)\n",
    "\n",
    "my_list.insert(0, 43)\n",
    "print(my_list)"
   ]
  },
  {
   "cell_type": "code",
   "execution_count": 81,
   "id": "fd5b0cca",
   "metadata": {},
   "outputs": [
    {
     "name": "stdout",
     "output_type": "stream",
     "text": [
      "[43, 32, 6, 4, 3, 1]\n"
     ]
    }
   ],
   "source": [
    "my_list.sort(reverse = True)\n",
    "print(my_list)"
   ]
  },
  {
   "cell_type": "markdown",
   "id": "7af29040",
   "metadata": {},
   "source": [
    "# List slicing"
   ]
  },
  {
   "cell_type": "code",
   "execution_count": 95,
   "id": "5c94cd7d",
   "metadata": {},
   "outputs": [
    {
     "name": "stdout",
     "output_type": "stream",
     "text": [
      "[2, 3, 4, 5, 6]\n"
     ]
    }
   ],
   "source": [
    "my_list = [0,1,2,3,4,5,6,7,8,9]\n",
    "\n",
    "#slice starting at index 2 up to, but not including index 7 -> index 2 to index 6\n",
    "\n",
    "print(my_list[2:7])\n"
   ]
  },
  {
   "cell_type": "code",
   "execution_count": 89,
   "id": "cb51e98a-2eab-4e41-82f2-a44e28b3ed9c",
   "metadata": {},
   "outputs": [
    {
     "name": "stdout",
     "output_type": "stream",
     "text": [
      "[5, 6, 7, 8, 9]\n"
     ]
    }
   ],
   "source": [
    "#slice starting at index 5 up to the end of the list\n",
    "\n",
    "print(my_list[5:])\n"
   ]
  },
  {
   "cell_type": "code",
   "execution_count": 93,
   "id": "94fb412a-9cda-4ee3-9c16-6c9ed7632026",
   "metadata": {},
   "outputs": [
    {
     "name": "stdout",
     "output_type": "stream",
     "text": [
      "[0, 1, 2, 3, 4, 5, 6, 7]\n"
     ]
    }
   ],
   "source": [
    "#slice starting at the beginning of the list up to, but not including index 8\n",
    "\n",
    "print(my_list[:8])\n"
   ]
  },
  {
   "cell_type": "code",
   "execution_count": 97,
   "id": "f647e93c-86bf-4028-afca-fafbe01cdf41",
   "metadata": {},
   "outputs": [
    {
     "name": "stdout",
     "output_type": "stream",
     "text": [
      "[0, 1, 2, 3, 4, 5, 6, 7, 8, 9]\n"
     ]
    }
   ],
   "source": [
    "#returns the entire list\n",
    "\n",
    "print(my_list)\n"
   ]
  },
  {
   "cell_type": "code",
   "execution_count": 105,
   "id": "db1f21b1-5c1c-4176-a03d-50c6ae635783",
   "metadata": {},
   "outputs": [
    {
     "name": "stdout",
     "output_type": "stream",
     "text": [
      "9\n"
     ]
    }
   ],
   "source": [
    "#returns the last element in the list\n",
    "\n",
    "print(my_list[-1])"
   ]
  },
  {
   "cell_type": "code",
   "execution_count": 111,
   "id": "63b803ce-9fe3-47f1-b5f9-67f594144954",
   "metadata": {},
   "outputs": [
    {
     "data": {
      "text/plain": [
       "[1, 3, 5, 7, 9]"
      ]
     },
     "execution_count": 111,
     "metadata": {},
     "output_type": "execute_result"
    }
   ],
   "source": [
    "my_list[1::2]"
   ]
  },
  {
   "cell_type": "markdown",
   "id": "7897925a",
   "metadata": {},
   "source": [
    "# Tuples (immutable but can be accessed just like a list)"
   ]
  },
  {
   "cell_type": "code",
   "execution_count": 109,
   "id": "6d5693c7",
   "metadata": {},
   "outputs": [
    {
     "name": "stdout",
     "output_type": "stream",
     "text": [
      "('C', 'h', 'a', 'm', 'p', 'l', 'a', 'i', 'n')\n"
     ]
    }
   ],
   "source": [
    "my_tuple_1 = (0,1,2,3,4)\n",
    "my_tuple_2 = tuple(\"Champlain\")\n",
    "my_tuple_3 = tuple(my_list)\n",
    "\n",
    "print(my_tuple_2)\n"
   ]
  },
  {
   "cell_type": "markdown",
   "id": "5b2db760",
   "metadata": {},
   "source": [
    "# Dictionary holds key:value pair"
   ]
  },
  {
   "cell_type": "code",
   "execution_count": 113,
   "id": "a62208fe",
   "metadata": {},
   "outputs": [
    {
     "name": "stdout",
     "output_type": "stream",
     "text": [
      "{'Make': 'Ford', 'Model': 'Mustang', 'Year': '2007', 'Engine': 'V8', 'Miles': '5337', 'HP': '400', 'Torque': '425'}\n"
     ]
    }
   ],
   "source": [
    "my_dict = {}\n",
    "my_dict = {\"Make\":\"Ford\", \"Model\":\"Mustang\", \"Year\":\"2007\",\"Engine\":\"V8\", \"Miles\":\"5337\"}\n",
    "\n",
    "#adding na new key-value pair\n",
    "my_dict[\"HP\"] = \"400\"\n",
    "my_dict[\"Torque\"] = \"425\"\n",
    "\n",
    "print(my_dict)\n"
   ]
  },
  {
   "cell_type": "code",
   "execution_count": null,
   "id": "6b759429-8fa1-4073-ab09-3a06650c5c42",
   "metadata": {},
   "outputs": [],
   "source": [
    "#modifies an existing key-value pair\n",
    "my_dict[\"Torque\"] =\"423\"\n",
    "\n"
   ]
  },
  {
   "cell_type": "code",
   "execution_count": null,
   "id": "d78c0215-23dc-45da-aa5d-8464f37e2aea",
   "metadata": {},
   "outputs": [],
   "source": [
    "#deleting a key-value pair\n",
    "del my_dict[\"Torque\"]\n",
    "\n"
   ]
  },
  {
   "cell_type": "code",
   "execution_count": 115,
   "id": "dede8b94-9cee-49e6-b73f-d4196dc76255",
   "metadata": {},
   "outputs": [
    {
     "name": "stdout",
     "output_type": "stream",
     "text": [
      "7\n"
     ]
    }
   ],
   "source": [
    "#returns the number of key-value pairs\n",
    "\n",
    "print(len(my_dict))\n"
   ]
  },
  {
   "cell_type": "code",
   "execution_count": 119,
   "id": "0f1fd14d-71cc-4fc4-bf6d-203c0d10135f",
   "metadata": {},
   "outputs": [
    {
     "name": "stdout",
     "output_type": "stream",
     "text": [
      "dict_keys(['Make', 'Model', 'Year', 'Engine', 'Miles', 'HP', 'Torque'])\n"
     ]
    }
   ],
   "source": [
    "#returns a list having keys in the dictionary as elements\n",
    "\n",
    "print(my_dict.keys())\n",
    "\n"
   ]
  },
  {
   "cell_type": "code",
   "execution_count": 123,
   "id": "2823ca5f-7ab7-46f8-9bcc-62ba8f6a32ee",
   "metadata": {},
   "outputs": [
    {
     "name": "stdout",
     "output_type": "stream",
     "text": [
      "dict_values(['Ford', 'Mustang', '2007', 'V8', '5337', '400', '425'])\n"
     ]
    }
   ],
   "source": [
    "#returns a list having values in the dictionary as elements\n",
    "print(my_dict.values())\n",
    "\n"
   ]
  },
  {
   "cell_type": "code",
   "execution_count": 125,
   "id": "96d2645e-2728-41f0-b258-d92d7c29cb9e",
   "metadata": {},
   "outputs": [
    {
     "name": "stdout",
     "output_type": "stream",
     "text": [
      "dict_items([('Make', 'Ford'), ('Model', 'Mustang'), ('Year', '2007'), ('Engine', 'V8'), ('Miles', '5337'), ('HP', '400'), ('Torque', '425')])\n"
     ]
    }
   ],
   "source": [
    "#returns a list of tuples, each tuple containing the key and value of each dictionary pair\n",
    "\n",
    "print(my_dict.items())"
   ]
  },
  {
   "cell_type": "code",
   "execution_count": null,
   "id": "aba7ae91-4511-4afe-95ac-4d99a9134241",
   "metadata": {},
   "outputs": [],
   "source": []
  },
  {
   "cell_type": "markdown",
   "id": "de839eea",
   "metadata": {},
   "source": [
    "# Control flow\n",
    "# if , if-else, if-elif-else"
   ]
  },
  {
   "cell_type": "raw",
   "id": "91b8971b",
   "metadata": {},
   "source": [
    "# if\n",
    "if(condition):\n",
    "    yes_statements\n",
    "\n",
    "# if-else\n",
    "if (condition):\n",
    "    yes_statements\n",
    "else:\n",
    "    no_statements\n",
    "    \n",
    "# if-elif-else ladder\n",
    "if (condition_1):\n",
    "    statements_1\n",
    "elif (condition_2):\n",
    "    statements_2\n",
    "elif (condition_3):\n",
    "    statements_3\n",
    "    \n",
    "    .\n",
    "    .\n",
    "    .\n",
    "    .\n",
    "    \n",
    "else:\n",
    "    statements_n"
   ]
  },
  {
   "cell_type": "code",
   "execution_count": 32,
   "id": "d28a87f2",
   "metadata": {},
   "outputs": [
    {
     "name": "stdout",
     "output_type": "stream",
     "text": [
      "Enter number:8\n",
      "8  is greater than 5\n"
     ]
    }
   ],
   "source": [
    "#check if input number is greater than 5\n",
    "input_num = int(input(\"Enter number:\"))\n",
    "\n",
    "if(input_num > 5):\n",
    "    print(input_num, \" is greater than 5\")"
   ]
  },
  {
   "cell_type": "code",
   "execution_count": 35,
   "id": "872ad283",
   "metadata": {},
   "outputs": [
    {
     "name": "stdout",
     "output_type": "stream",
     "text": [
      "Enter number:4\n",
      "4 is less than 5\n"
     ]
    }
   ],
   "source": [
    "input_num = int(input(\"Enter number:\"))\n",
    "\n",
    "if(input_num > 5):\n",
    "    print(input_num, \"is greater than 5\")\n",
    "else:\n",
    "    print(input_num, \"is less than 5\")"
   ]
  },
  {
   "cell_type": "code",
   "execution_count": 34,
   "id": "d847532f",
   "metadata": {},
   "outputs": [
    {
     "name": "stdout",
     "output_type": "stream",
     "text": [
      "Enter number:5\n",
      "5 is equal to 5\n"
     ]
    }
   ],
   "source": [
    "input_num = int(input(\"Enter number:\"))\n",
    "\n",
    "if(input_num > 5):\n",
    "    print(input_num, \"is greater than 5\")\n",
    "elif(input_num == 5):\n",
    "    print(input_num, \"is equal to 5\")\n",
    "else:\n",
    "    print(input_num, \"is less than 5\")"
   ]
  },
  {
   "cell_type": "raw",
   "id": "b61bbb29",
   "metadata": {},
   "source": [
    "Write a program that will tell whether the input number is divisible by 3 & 4."
   ]
  },
  {
   "cell_type": "code",
   "execution_count": 2,
   "id": "4ef27814",
   "metadata": {},
   "outputs": [
    {
     "name": "stdout",
     "output_type": "stream",
     "text": [
      "Enter number:12\n",
      "12 is divisible by 3 and 4\n"
     ]
    }
   ],
   "source": [
    "input_num = int(input(\"Enter number:\"))\n",
    "\n",
    "if((input_num%3 == 0) and (input_num%4 == 0)):\n",
    "    print(input_num, \"is divisible by 3 and 4\")\n",
    "else:\n",
    "    print(input_num, \"is not divisible by 3 and 4\")"
   ]
  },
  {
   "cell_type": "markdown",
   "id": "dbfc02af",
   "metadata": {},
   "source": [
    "# while loop"
   ]
  },
  {
   "cell_type": "raw",
   "id": "dc77217e",
   "metadata": {},
   "source": [
    "while (condition):\n",
    "    statements"
   ]
  },
  {
   "cell_type": "code",
   "execution_count": 127,
   "id": "d930fc8b",
   "metadata": {},
   "outputs": [
    {
     "name": "stdin",
     "output_type": "stream",
     "text": [
      "Enter number: 13\n"
     ]
    },
    {
     "name": "stdout",
     "output_type": "stream",
     "text": [
      "13\n"
     ]
    }
   ],
   "source": [
    "#enforce a positive input\n",
    "input_num = int(input(\"Enter number:\"))\n",
    "\n",
    "\n",
    "print(input_num)"
   ]
  },
  {
   "cell_type": "markdown",
   "id": "9bb17980-d566-473e-b23b-9416431719cd",
   "metadata": {},
   "source": [
    "# Problem 1\n",
    "\n",
    "Display all even numbers between 1 and 20."
   ]
  },
  {
   "cell_type": "code",
   "execution_count": 143,
   "id": "8cc9a171",
   "metadata": {},
   "outputs": [
    {
     "name": "stdout",
     "output_type": "stream",
     "text": [
      "2\n",
      "4\n",
      "6\n",
      "8\n",
      "10\n",
      "12\n",
      "14\n",
      "16\n",
      "18\n",
      "20\n"
     ]
    }
   ],
   "source": [
    "i = 0\n",
    "\n",
    "while i < 20:\n",
    "    i += 1\n",
    "    if i%2 == 0:\n",
    "        print(i)\n",
    "    "
   ]
  },
  {
   "cell_type": "markdown",
   "id": "df51c793",
   "metadata": {},
   "source": [
    "# for loop"
   ]
  },
  {
   "cell_type": "raw",
   "id": "22e8674c",
   "metadata": {},
   "source": [
    "for var in iterable:\n",
    "    statements"
   ]
  },
  {
   "cell_type": "code",
   "execution_count": 8,
   "id": "eeca8de7",
   "metadata": {},
   "outputs": [],
   "source": [
    "my_list = [11,12,13,14,15]\n",
    "\n"
   ]
  },
  {
   "cell_type": "code",
   "execution_count": 7,
   "id": "683cd7d4",
   "metadata": {},
   "outputs": [],
   "source": [
    "#for loop with a step size\n",
    "#step size 1\n",
    "\n",
    "\n",
    "#step size 2\n"
   ]
  },
  {
   "cell_type": "code",
   "execution_count": 9,
   "id": "81fb303a",
   "metadata": {},
   "outputs": [],
   "source": [
    "#using a for loop to take inputs to a list\n",
    "\n",
    "\n",
    "    "
   ]
  },
  {
   "cell_type": "markdown",
   "id": "335a1017-7a66-489d-9549-32c4c24dcc82",
   "metadata": {},
   "source": [
    "# Problem 2 \n",
    "\n",
    "Find sum of first n natural numbers"
   ]
  },
  {
   "cell_type": "code",
   "execution_count": 160,
   "id": "db39eb29",
   "metadata": {},
   "outputs": [
    {
     "name": "stdout",
     "output_type": "stream",
     "text": [
      "65\n"
     ]
    }
   ],
   "source": [
    "my_list = [11,12,13,14,15]\n",
    "\n",
    "running_sum = 0\n",
    "\n",
    "for i in my_list:\n",
    "    running_sum += i\n",
    "\n",
    "print(running_sum)\n"
   ]
  },
  {
   "cell_type": "code",
   "execution_count": null,
   "id": "211aeae0-1a9d-4312-9d2f-9cd7596a6e78",
   "metadata": {},
   "outputs": [],
   "source": []
  },
  {
   "cell_type": "markdown",
   "id": "be992a0c",
   "metadata": {},
   "source": [
    "# nested for loop"
   ]
  },
  {
   "cell_type": "markdown",
   "id": "be1b56c7-15e2-4d33-b7a0-a04f2aa87ff5",
   "metadata": {},
   "source": [
    "# Problem 3 \n",
    "\n",
    "Print multiplication table from 1 to 10\n",
    "\n"
   ]
  },
  {
   "cell_type": "markdown",
   "id": "8aef8560",
   "metadata": {},
   "source": [
    "# functions"
   ]
  },
  {
   "cell_type": "code",
   "execution_count": null,
   "id": "ae6be403-092d-41e3-a3a5-2bb2e43394a8",
   "metadata": {},
   "outputs": [],
   "source": [
    "\n",
    "for i in range(1, 11):\n",
    "    for x in range(1, 11):\n",
    "        print(i * x)\n",
    "    \n",
    "\n"
   ]
  },
  {
   "cell_type": "raw",
   "id": "06efa525",
   "metadata": {},
   "source": [
    "def function_name(parameters):\n",
    "    .\n",
    "    .\n",
    "    body of the function\n",
    "    .\n",
    "    .\n",
    "    return expression/variable\n",
    "    \n",
    "    \n",
    "\n",
    "#Python 3.5 and above\n",
    "#similar to C++ \n",
    "def function_name(parameter: data_type) -> return_type:\n",
    "    .\n",
    "    .\n",
    "    body of the function\n",
    "    .\n",
    "    .\n",
    "    return expression"
   ]
  },
  {
   "cell_type": "code",
   "execution_count": 162,
   "id": "fb86e352-ef4b-4285-9577-7fdbf4d39806",
   "metadata": {},
   "outputs": [
    {
     "name": "stdout",
     "output_type": "stream",
     "text": [
      "The sum of 2 and 3 is 5.\n"
     ]
    }
   ],
   "source": [
    "def add_2(num_1, num_2):\n",
    "    num_3 = num_1+num_2\n",
    "    \n",
    "    return num_3\n",
    "\n",
    "num_1, num_2 = 2,3\n",
    "add_two = add_2(num_1, num_2)\n",
    "#print(\"The sum of\", num_1, \"and\", num_2,\"is\", add_two)\n",
    "print(f\"The sum of {num_1} and {num_2} is {add_two}.\")"
   ]
  },
  {
   "cell_type": "code",
   "execution_count": null,
   "id": "b1570cc6-3189-4e89-b044-6ad9eb4baeba",
   "metadata": {},
   "outputs": [],
   "source": []
  },
  {
   "cell_type": "markdown",
   "id": "9c80b2e0-21dd-4569-998f-9ebe0e026a3d",
   "metadata": {},
   "source": [
    "# Problem 4\n",
    "\n",
    "Given a list of temperatures, classify them into lists of good temperatures and not so good temperatures, and display the results. \n",
    "\n",
    "A good temperature is between 65 to 80 F (Including both)"
   ]
  },
  {
   "cell_type": "code",
   "execution_count": null,
   "id": "fa28531c-3711-491f-afc7-af5d15767227",
   "metadata": {},
   "outputs": [],
   "source": [
    "temperature_reading = [70, 78, 81, 34, 53, 91, 88, 29, 37, 63, 85, 22, 13, 93, 98, 100]"
   ]
  },
  {
   "cell_type": "markdown",
   "id": "e90c8a16-553b-406f-9eb5-783fbbda5cc3",
   "metadata": {},
   "source": [
    "Display the highest 3 temperatures"
   ]
  },
  {
   "cell_type": "code",
   "execution_count": 27,
   "id": "df20489c-157a-40fe-aefa-105c59d12655",
   "metadata": {},
   "outputs": [
    {
     "data": {
      "text/plain": [
       "[93, 98, 100]"
      ]
     },
     "execution_count": 27,
     "metadata": {},
     "output_type": "execute_result"
    }
   ],
   "source": [
    "temperature_reading = [70, 78, 81, 34, 53, 91, 88, 29, 37, 63, 85, 22, 13, 93, 98, 100]\n",
    "\n",
    "def temp_sort(temp):\n",
    "    temp.sort\n",
    "    return temp[-3:]\n",
    "\n",
    "temp_sort(temperature_reading)\n",
    "\n"
   ]
  },
  {
   "cell_type": "markdown",
   "id": "a637a1a9-a25f-4c4c-b2b5-bf808f1df18b",
   "metadata": {},
   "source": [
    "Display the lowest 4 temperatures"
   ]
  },
  {
   "cell_type": "code",
   "execution_count": 29,
   "id": "9bc49fbf-3115-495f-b1e2-9d0c385a565b",
   "metadata": {},
   "outputs": [
    {
     "data": {
      "text/plain": [
       "[70, 78, 81]"
      ]
     },
     "execution_count": 29,
     "metadata": {},
     "output_type": "execute_result"
    }
   ],
   "source": [
    "temperature_reading = [70, 78, 81, 34, 53, 91, 88, 29, 37, 63, 85, 22, 13, 93, 98, 100]\n",
    "\n",
    "def temp_sort(temp):\n",
    "    temp.sort\n",
    "    return temp[:3]\n",
    "\n",
    "temp_sort(temperature_reading)"
   ]
  },
  {
   "cell_type": "code",
   "execution_count": 4,
   "id": "27d23f09",
   "metadata": {},
   "outputs": [],
   "source": [
    "my_list.sort(reverse = True)"
   ]
  }
 ],
 "metadata": {
  "kernelspec": {
   "display_name": "Python [conda env:base] *",
   "language": "python",
   "name": "conda-base-py"
  },
  "language_info": {
   "codemirror_mode": {
    "name": "ipython",
    "version": 3
   },
   "file_extension": ".py",
   "mimetype": "text/x-python",
   "name": "python",
   "nbconvert_exporter": "python",
   "pygments_lexer": "ipython3",
   "version": "3.12.7"
  }
 },
 "nbformat": 4,
 "nbformat_minor": 5
}
