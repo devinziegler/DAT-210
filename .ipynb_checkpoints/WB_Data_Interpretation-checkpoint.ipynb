{
 "cells": [
  {
   "cell_type": "code",
   "execution_count": 3,
   "id": "c58ede62-54f2-4aa8-8a0b-540b17b7acaa",
   "metadata": {},
   "outputs": [
    {
     "name": "stdout",
     "output_type": "stream",
     "text": [
      "Sales Summary Table:\n",
      "Region | Total Sales | Average Sale Value | Top Product | Discount Applied (1=Yes, 0=No)\n",
      "North  | 1500        | 50                 | Product A   | 1                             \n",
      "South  | 1200        | 40                 | Product B   | 0                             \n",
      "East   | 1800        | 60                 | Product C   | 1                             \n",
      "West   | 1300        | 45                 | Product A   | 0                             \n",
      "\n",
      "Employee Performance Summary Table:\n",
      "Employee | Hours Worked (Weekly) | Tasks Completed | Satisfaction Score (1-5) | Category (Rank)\n",
      "Alice    | 40                    | 50              | 4                        | High           \n",
      "Bob      | 38                    | 48              | 3                        | Medium         \n",
      "Charlie  | 45                    | 55              | 5                        | High           \n",
      "Diana    | 42                    | 52              | 4                        | High           \n"
     ]
    }
   ],
   "source": [
    "import numpy as np\n",
    "\n",
    "def display_table(table):\n",
    "    col_widths = [max(len(str(row[i])) for row in table) for i in range(table.shape[1])]\n",
    "    for row in table:\n",
    "        print(\" | \".join(str(cell).ljust(col_widths[i]) for i, cell in enumerate(row)))\n",
    "\n",
    "\n",
    "sales_table = np.array([\n",
    "    [\"Region\", \"Total Sales\", \"Average Sale Value\", \"Top Product\", \"Discount Applied (1=Yes, 0=No)\"],\n",
    "    [\"North\", 1500, 50, \"Product A\", 1],\n",
    "    [\"South\", 1200, 40, \"Product B\", 0],\n",
    "    [\"East\", 1800, 60, \"Product C\", 1],\n",
    "    [\"West\", 1300, 45, \"Product A\", 0]\n",
    "])\n",
    "\n",
    "\n",
    "employee_table = np.array([\n",
    "    [\"Employee\", \"Hours Worked (Weekly)\", \"Tasks Completed\", \"Satisfaction Score (1-5)\", \"Category (Rank)\"],\n",
    "    [\"Alice\", 40, 50, 4, \"High\"],\n",
    "    [\"Bob\", 38, 48, 3, \"Medium\"],\n",
    "    [\"Charlie\", 45, 55, 5, \"High\"],\n",
    "    [\"Diana\", 42, 52, 4, \"High\"]\n",
    "])\n",
    "\n",
    "print(\"Sales Summary Table:\")\n",
    "display_table(sales_table)\n",
    "print(\"\\nEmployee Performance Summary Table:\")\n",
    "display_table(employee_table)\n"
   ]
  },
  {
   "cell_type": "code",
   "execution_count": null,
   "id": "4218c782-f337-484f-809e-9ed958a7185f",
   "metadata": {},
   "outputs": [],
   "source": []
  }
 ],
 "metadata": {
  "kernelspec": {
   "display_name": "Python 3 (ipykernel)",
   "language": "python",
   "name": "python3"
  },
  "language_info": {
   "codemirror_mode": {
    "name": "ipython",
    "version": 3
   },
   "file_extension": ".py",
   "mimetype": "text/x-python",
   "name": "python",
   "nbconvert_exporter": "python",
   "pygments_lexer": "ipython3",
   "version": "3.11.7"
  }
 },
 "nbformat": 4,
 "nbformat_minor": 5
}
